{
  "cells": [
    {
      "cell_type": "markdown",
      "metadata": {},
      "source": [
        "---\n",
        "title: \"My First Quarto Doc\"\n",
        "author: \"Lee\"\n",
        "date: \"2025-06-26\"\n",
        "format:\n",
        "  html-jupyterlite:\n",
        "    include: true  # 필요 패키지 목록\n",
        "jupyter: python3\n",
        "---\n",
        "\n",
        "# 1장. 소개\n",
        "\n",
        "이 문서는 Quarto 문서의 예시입니다.\\\n",
        "아래처럼 일반 텍스트, 목록, 표 등 **Markdown** 문법을 모두 쓸 수 있어요.\n",
        "\n",
        "-   첫 번째 항목\\\n",
        "-   두 번째 항목\n",
        "\n",
        "## 2장. 코드 실행 예시"
      ]
    },
    {
      "cell_type": "code",
      "metadata": {},
      "source": [
        "import math\n",
        "print(f\"√2 = {math.sqrt(2):.4f}\")"
      ],
      "execution_count": null,
      "outputs": []
    }
  ],
  "metadata": {
    "kernelspec": {
      "name": "python3",
      "language": "python",
      "display_name": "Python 3 (ipykernel)",
      "path": "C:\\Users\\melod\\lab\\lab\\share\\jupyter\\kernels\\python3"
    }
  },
  "nbformat": 4,
  "nbformat_minor": 4
}